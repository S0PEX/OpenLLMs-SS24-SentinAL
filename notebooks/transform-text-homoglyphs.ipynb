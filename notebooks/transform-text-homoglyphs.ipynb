{
 "cells": [
  {
   "cell_type": "code",
   "id": "initial_id",
   "metadata": {
    "collapsed": true,
    "ExecuteTime": {
     "end_time": "2024-06-25T17:50:54.013519Z",
     "start_time": "2024-06-25T17:50:54.011513Z"
    }
   },
   "source": "import random",
   "outputs": [],
   "execution_count": 18
  },
  {
   "metadata": {
    "ExecuteTime": {
     "end_time": "2024-06-25T17:50:54.019034Z",
     "start_time": "2024-06-25T17:50:54.014019Z"
    }
   },
   "cell_type": "code",
   "source": [
    "# Define a mapping of Latin letters to visually similar Unicode characters\n",
    "homoglyphs = {\n",
    "    'a': ['а', 'ɑ', 'а'],\n",
    "    'b': ['Ь', 'b', 'Ꮟ'],\n",
    "    'c': ['с', 'ϲ', 'ᴄ'],\n",
    "    'd': ['ԁ', 'ɗ', 'Ꮷ'],\n",
    "    'e': ['е', 'ҽ', '℮'],\n",
    "    'f': ['ƒ', 'Ϝ', 'ғ'],\n",
    "    'g': ['ɡ', 'ɢ', 'ց'],\n",
    "    'h': ['һ', 'հ', 'Ꮒ'],\n",
    "    'i': ['і', 'ι', 'í'],\n",
    "    'j': ['ϳ', 'ј', 'ј'],\n",
    "    'k': ['κ'],\n",
    "    'l': ['ӏ', 'ʟ', 'ι'],\n",
    "    'm': ['м', 'ⅿ'],\n",
    "    'n': ['ո', 'ո'],\n",
    "    'o': ['о', 'σ', 'օ'],\n",
    "    'p': ['р', 'ρ', 'р'],\n",
    "    'q': ['ԛ', 'գ', 'գ'],\n",
    "    'r': ['г', 'г', 'г'],\n",
    "    's': ['ѕ', 'ѕ', 'ꜱ'],\n",
    "    't': ['т', 'ᴛ'],\n",
    "    'u': ['υ', 'ս', 'ս'],\n",
    "    'v': ['ѵ', 'ν', 'ν'],\n",
    "    'w': ['ѡ', 'ա', 'ա'],\n",
    "    'x': ['х', 'ҳ', 'ҳ'],\n",
    "    'y': ['у', 'ү', 'ү'],\n",
    "    'z': ['ᴢ', 'ᴢ', 'ᴢ']\n",
    "}\n",
    "\n",
    "def replace_with_homoglyphs(sentence: str, max_number_of_chars: int = None) -> str:\n",
    "    \"\"\"\n",
    "    Replace characters in a sentence with visually similar homoglyphs.\n",
    "    :param sentence: The input sentence to transform.\n",
    "    :param max_number_of_chars: The maximum number of characters to replace.\n",
    "    :return: The transformed sentence.\n",
    "    \"\"\"\n",
    "    if max_number_of_chars is None:\n",
    "        max_number_of_chars = len(sentence)\n",
    "    \n",
    "    # Get indices of characters that can be replaced\n",
    "    replaceable_indices = [i for i, char in enumerate(sentence) if char.lower() in homoglyphs]\n",
    "    \n",
    "    # Randomly select indices to replace, limited by max_number_of_chars\n",
    "    indices_to_replace = random.sample(replaceable_indices, min(max_number_of_chars, len(replaceable_indices)))\n",
    "\n",
    "    result = []\n",
    "    for i, char in enumerate(sentence):\n",
    "        if i in indices_to_replace:\n",
    "            homoglyph_list = homoglyphs[char.lower()]\n",
    "            replacement = random.choice(homoglyph_list)\n",
    "            # Preserve the original case\n",
    "            if char.isupper():\n",
    "                replacement = replacement.upper()\n",
    "            result.append(replacement)\n",
    "        else:\n",
    "            result.append(char)\n",
    "    \n",
    "    return ''.join(result)\n",
    "\n",
    "# Example usage\n",
    "sentence = \"This is an example sentence to demonstrate homoglyph substitution.\"\n",
    "transformed_sentence = replace_with_homoglyphs(sentence, max_number_of_chars=5)\n",
    "print(transformed_sentence)"
   ],
   "id": "5fc1d470f4e336eb",
   "outputs": [
    {
     "name": "stdout",
     "output_type": "stream",
     "text": [
      "This is an exаmple sҽntence to demonstrɑte homoglyph substitutíօn.\n"
     ]
    }
   ],
   "execution_count": 19
  },
  {
   "metadata": {
    "ExecuteTime": {
     "end_time": "2024-06-25T17:50:59.566665Z",
     "start_time": "2024-06-25T17:50:54.019536Z"
    }
   },
   "cell_type": "code",
   "source": [
    "from datasets import load_dataset\n",
    "\n",
    "# Load datasets\n",
    "tweet_eval = load_dataset(\"cardiffnlp/tweet_eval\", \"hate\", split='test')\n",
    "financial_phrasebank = load_dataset(\"takala/financial_phrasebank\", \"sentences_allagree\", split='train', trust_remote_code=True)"
   ],
   "id": "133ee2594d62ea57",
   "outputs": [],
   "execution_count": 20
  },
  {
   "metadata": {
    "ExecuteTime": {
     "end_time": "2024-06-25T17:50:59.574197Z",
     "start_time": "2024-06-25T17:50:59.567167Z"
    }
   },
   "cell_type": "code",
   "source": [
    "# Transform a few examples from the TweetEval dataset\n",
    "for text in tweet_eval['text'][:5]:\n",
    "    transformed_text = replace_with_homoglyphs(text)\n",
    "    print(f\"Original: {text}\")\n",
    "    print(f\"Transformed: {transformed_text}\\n\")\n",
    "    \n",
    "# Transform a few examples from the Financial Phrasebank dataset\n",
    "for text in financial_phrasebank['sentence'][:5]:\n",
    "    transformed_text = replace_with_homoglyphs(text)\n",
    "    print(f\"Original: {text}\")\n",
    "    print(f\"Transformed: {transformed_text}\\n\")"
   ],
   "id": "f591ea897dfd37ca",
   "outputs": [
    {
     "name": "stdout",
     "output_type": "stream",
     "text": [
      "Original: @user , you are correct that Reid certainly is a weasel. Sadly, we've got our own weasels; @user Sen McConnell & @user .The corrupt Mueller investigation w/be STOPPED if those 3 did their jobs.#MAGA #KAG #POTUS #Trump #NEWS #VoteRed #NoDACA #USA\n",
      "Transformed: @υѕег , үоυ ɑг℮ ᴄоггҽᴄт тհаᴛ ГеíᏧ ϲ℮гтаíոʟү іꜱ а ѡеаꜱҽι. ꜱɑɗӏү, ա℮'νе ɡσᴛ оυг оաո ա℮аѕеιѕ; @սꜱҽг Ѕ℮ո Ⅿᴄᴄоոոеιӏ & @սѕ℮г .Тհе ϲσггսрт Ⅿս℮ӏʟег ιոνҽꜱтіɢɑᴛіоո ա/Ьҽ ЅТՕРР℮Ꮷ іϜ ᴛհоѕҽ 3 ᏧіᏧ ᴛᏂҽіг ϳоbꜱ.#МАꞬА #ΚⱭՑ #РՕᴛՍЅ #Тгսмр #Ո℮ѠЅ #ѴօᴛеГҽԁ #ՈоԀАϹⱭ #ՍЅА\n",
      "\n",
      "Original: Whoever just unfollowed me you a bitch\n",
      "Transformed: Աһо℮ѵҽг јսѕт սոғօιʟօաҽɗ ⅿҽ үօυ а bíтᴄᏂ\n",
      "\n",
      "Original: @user @user Those People Invaded Us!!! They DO NOT BELING HERE & HAVE NO RIGHTS! Its #AmericaFIRST! Open Your House To Them If Your That IGNORANT! & Yes Im A #Christian Too! #NODACA!\n",
      "Transformed: @սꜱег @սꜱҽг Тհօѕҽ Р℮օρʟе Ιոνаɗ℮ԁ Սꜱ!!! ᴛһҽү ᏧΣ ՈОᴛ BҼΙÍՈꞬ ՀҼГҼ & ᏂАΝ℮ ՈО ГІՑҺТЅ! Ιᴛѕ #АмҽгісаҒІГЅТ! Ореո Үоυг Ꮒօսѕҽ То ᴛհҽм Íғ Үօυг ᴛᏂат ÍꞬՈՕГАՈᴛ! & Ү℮ѕ Ιⅿ А #ᴄհгιꜱᴛіɑո Тоσ! #ՈՕƊАᴄА!\n",
      "\n",
      "Original: stop JUDGING bitches by there cover, jus cuz she bad don't mean she's a catch shawdy could be a whore 👀 das opposite of a keeper\n",
      "Transformed: ѕтօρ ЈՍᏧՑΙՈՑ bιтсһҽѕ Ьу тһҽгҽ ϲσνег, јυѕ сυᴢ ѕһҽ Ꮟаԁ ɗоո'т мҽаո ѕһе'ѕ ɑ сатϲһ ѕᏂаѡɗү соυӏԁ b℮ а աᏂσгҽ 👀 Ꮷɑѕ օрроѕíᴛе σғ а κҽҽрег\n",
      "\n",
      "Original: how about i knock heads off and send them gift wrapped to your moms house you dumb raggedy bird bitch ass hoes\n",
      "Transformed: һσѡ аᏏσսᴛ і κոօϲκ հҽаᏧꜱ օϜғ аոɗ ꜱҽոɗ ᴛհ℮ⅿ ɢіƒт ѡгаρрҽᏧ ᴛօ уօυг ⅿσⅿѕ Ꮒօυѕе үօս ԁυмЬ гаɡɡеɗу ᏏігᏧ ᏏιᴛϲᏂ ɑꜱѕ Ꮒσ℮ѕ\n",
      "\n",
      "Original: According to Gran , the company has no plans to move all production to Russia , although that is where the company is growing .\n",
      "Transformed: Аᴄᴄօгԁіոց ᴛσ ɢгɑո , ᴛһҽ ᴄσмρаոу Ꮒɑѕ ոօ рӏаոѕ ᴛо ⅿσν℮ аʟӏ ргօԁսсᴛіоո ᴛօ Гսꜱѕіа , аӏᴛһоսɡհ тհаᴛ íѕ աһегҽ ᴛһҽ ᴄσⅿρаոү íꜱ ցгоѡíոɢ .\n",
      "\n",
      "Original: For the last quarter of 2010 , Componenta 's net sales doubled to EUR131m from EUR76m for the same period a year earlier , while it moved to a zero pre-tax profit from a pre-tax loss of EUR7m .\n",
      "Transformed: Ƒог ᴛᏂҽ ʟаѕт գսагтҽг օƒ 2010 , Соⅿроոҽոᴛа 'ꜱ ո℮т ѕɑʟеѕ ɗσսbʟ℮ɗ тσ ЕՍГ131ⅿ ƒгօм ЕՍГ76ⅿ ƒօг ᴛհе ѕаⅿ℮ ρегіоɗ а үеаг еɑгʟιег , աᏂíιҽ íᴛ ⅿσѵҽԁ то а ᴢ℮го рг℮-ᴛаҳ ргσϜíт ƒгօⅿ ɑ рг℮-ᴛаҳ ӏσꜱѕ оғ ℮ΥГ7м .\n",
      "\n",
      "Original: In the third quarter of 2010 , net sales increased by 5.2 % to EUR 205.5 mn , and operating profit by 34.9 % to EUR 23.5 mn .\n",
      "Transformed: Ιո ᴛᏂе ᴛհíгԁ ԛսагтег оϜ 2010 , ոет ѕɑʟ℮ѕ íոсгеаѕеɗ Ьү 5.2 % ᴛσ ℮ΥГ 205.5 ⅿո , аոɗ оρегаᴛíոɡ ρгօϜíᴛ Ꮟү 34.9 % ᴛօ ҼΥГ 23.5 ⅿո .\n",
      "\n",
      "Original: Operating profit rose to EUR 13.1 mn from EUR 8.7 mn in the corresponding period in 2007 representing 7.7 % of net sales .\n",
      "Transformed: Օρегɑтιոɡ ρгσғіᴛ гоꜱ℮ ᴛо ҼՍГ 13.1 мո Ϝгσⅿ ℮ՍГ 8.7 мո іո тᏂ℮ сօггҽꜱρօոᏧιոɡ ρегισԁ іո 2007 гергеѕ℮ոᴛіոɡ 7.7 % օƒ ո℮т ѕɑʟ℮ꜱ .\n",
      "\n",
      "Original: Operating profit totalled EUR 21.1 mn , up from EUR 18.6 mn in 2007 , representing 9.7 % of net sales .\n",
      "Transformed: Օр℮гɑтιոɡ ргօғіт ᴛσᴛɑʟι℮ɗ ℮ՍГ 21.1 ⅿո , υр Ϝгσⅿ ЕՍГ 18.6 мո іո 2007 , геρгеѕ℮ոᴛíոɢ 9.7 % օғ ոет ѕɑʟҽѕ .\n",
      "\n"
     ]
    }
   ],
   "execution_count": 21
  },
  {
   "metadata": {
    "ExecuteTime": {
     "end_time": "2024-06-25T17:50:59.588239Z",
     "start_time": "2024-06-25T17:50:59.574698Z"
    }
   },
   "cell_type": "code",
   "source": [
    "# Transform datasets\n",
    "tweet_eval_transformed = tweet_eval.map(lambda example: {'text': replace_with_homoglyphs(example['text'])})\n",
    "financial_phrasebank_transformed = financial_phrasebank.map(lambda example: {'sentence': replace_with_homoglyphs(example['sentence'])})\n",
    "\n",
    "# Remove all entries that are non-hate speech\n",
    "tweet_eval_transformed = tweet_eval_transformed.filter(lambda example: example['label'] == 1) # 1 is hate speech\n",
    "financial_phrasebank_transformed = financial_phrasebank_transformed.filter(lambda example: example['label'] == 0) # 0 is negative speech\n",
    "\n",
    "# Print a few examples\n",
    "print(\"Transformed examples:\")\n",
    "for example in tweet_eval_transformed['text'][:5]:\n",
    "    print(f'tweet-eval: {example}')\n",
    "\n",
    "for example in financial_phrasebank_transformed['sentence'][:5]:\n",
    "    print(f'financial: {example}')"
   ],
   "id": "a92a0b1e43365642",
   "outputs": [
    {
     "name": "stdout",
     "output_type": "stream",
     "text": [
      "Transformed examples:\n",
      "tweet-eval: Աһօ℮ѵ℮г јսꜱᴛ սոғσʟʟօա℮Ꮷ ⅿ℮ үоυ а Ьіᴛсһ\n",
      "tweet-eval: @υѕ℮г @սꜱҽг ᴛһօѕе Реоριе ÍոνаɗҽᏧ Սѕ!!! ᴛհҽу ᏧՕ ՈΣТ BҼΙΙՈɢ ᏂЕГҼ & ՀАΝЕ ՈО ГΙꞬҺᴛЅ! Іᴛѕ #АмегιᴄаƑІГЅТ! Ор℮ո Үσυг Ꮒоսѕҽ Тσ ᴛᏂ℮м Іғ Үօυг ᴛᏂат ІꞬՈՕГАՈТ! & Уҽꜱ Ιм А #ϹᏂгιѕтιɑո Тօо! #ՈՕԀАϹА!\n",
      "tweet-eval: ѕᴛσр ЈΥԀɢІՈՑ ЬιтсᏂ℮ѕ Ьу тᏂеге соνҽг, јսꜱ ϲսᴢ ꜱᏂ℮ bаԁ ԁσո'ᴛ ⅿ℮аո ѕᏂе'ѕ а саᴛсհ ѕᏂаաɗү ᴄσυʟԁ Ь℮ а աһогҽ 👀 ɗаѕ σррσꜱітҽ оғ а κ℮℮рег\n",
      "tweet-eval: հօա аᏏоυт í κոσᴄκ һ℮аԁѕ оϜϜ аոᏧ ѕҽոᏧ тᏂ℮м ցіƒᴛ աгаррҽᏧ то үσυг ⅿомꜱ һσսѕе уσυ ᏧυⅿᏏ гаɡɢ℮ԁү Ьігɗ ЬіᴛϲᏂ ɑѕѕ Ꮒօҽѕ\n",
      "tweet-eval: @սѕег @սꜱег Мսꜱιíмꜱ аттасκҽԁ ΥЅ σո 9/11, 3000 κіӏιеɗ. ꜱսbѕ℮ԛսеոтιу ա℮ аӏιоѡҽԁ мօг℮ Мυꜱιιⅿꜱ íո оυг сσսոᴛгү?!?Ꮷо℮ѕ ᴛհιѕ ⅿаκ℮ аոу ѕеոꜱҽ ᴛօ уσս?Уσυ ᴄɑո тᏂɑոκ ОᏏамɑ, Ꮒιѕ ιíᏏҽгаʟꜱ міոіσոꜱ, ГІՈΣ'ѕ & ρօʟιᴛíϲаӏ сօггестոеѕѕ. #МυѕӏíмЬаո #ЬɑոÍѕʟɑм #Тгɑν℮ʟᏏаո #ᏧгɑіոᴛᏂеᏧҽерЅᴛате #Ꮷ℮рσгᴛᴛһҽⅿАιʟ\n",
      "financial: Јɑո. 6 -- Ғогɗ ιꜱ ѕтгսɢցӏιոɢ іո ᴛһҽ Ϝɑϲ℮ σғ ѕӏоѡíոց ᴛгυсκ аոɗ ЅΥΝ ѕаʟеꜱ ɑոᏧ а ꜱսгϜ℮іᴛ օƒ սр-ᴛօ-ԁɑᴛҽ , ɡоттɑ-Ꮒаνҽ ϲагꜱ .\n",
      "financial: РᏂагмасеυᴛιᴄаӏѕ ցгσսρ Σгíօո Сօгр герогт℮ɗ а ғɑӏʟ ιո ιтѕ ᴛһíгԁ-գսɑгᴛ℮г еагոíոɡѕ ᴛհаᴛ աҽге һіᴛ Ꮟү ӏагɡег ℮ҳр℮ոᏧіᴛսг℮ѕ оո Г&Ꮷ аոɗ ⅿɑгκетιոց .\n",
      "financial: Հσѡҽν℮г , ᴛᏂҽ ɡгоաтհ магɡіո ꜱӏօѡ℮Ꮷ Ꮷσաո ԁսе ᴛօ тᏂ℮ Ϝιոаոᴄіаʟ ϲгіѕíꜱ .\n",
      "financial: 2009 3 Ƒҽbгսɑгү 2010 - Ғιոӏɑոԁ-bаѕ℮Ꮷ ꜱᴛ℮ҽʟ ⅿɑκег Гɑυтагսսκκі Օуј ( Һ℮Ӏ : ГТГΚЅ ) , ог Гսսκκí , ѕɑíɗ ᴛσᏧɑу íт ѕʟιрреɗ ᴛօ а ʟагցҽг-тᏂаո-℮ҳрҽϲᴛҽɗ ргеᴛаҳ ισѕꜱ օғ ҼՍГ46ⅿ ιո тᏂҽ ƒօυгтһ ԛսагтег оғ 2009 ғгσⅿ ɑ үҽɑг-еɑгʟíег ргօϜíт σғ ℮ՍГ45м .\n",
      "financial: ( АƊРո℮աѕ ) - Ƒ℮Ь 3 , 2010 - ϜíոʟаոᏧ-bаꜱеᏧ ꜱᴛҽеӏ ⅿаκҽг Гаսᴛагսսκκι Σуј ( ҺҼΙ : ГТГΚЅ ) , ог Гսսκκі , ѕаιԁ тօᏧаү іт ꜱιірреᏧ ᴛо а ʟагɢег-тᏂɑո-℮ҳрҽϲᴛеԁ ρгҽᴛаҳ ʟօѕѕ оϜ ℮ΥГ 46 ⅿіιʟισո ( ՍꜱԀ 64.5 ⅿ ) іո тᏂе ƒоսгтһ գսɑгтҽг σϜ 2009 Ϝгօм ɑ\n"
     ]
    }
   ],
   "execution_count": 22
  },
  {
   "metadata": {
    "ExecuteTime": {
     "end_time": "2024-06-25T17:50:59.606826Z",
     "start_time": "2024-06-25T17:50:59.588741Z"
    }
   },
   "cell_type": "code",
   "source": [
    "# Save transformed datasets\n",
    "tweet_eval_transformed.save_to_disk(\"../data/processed/tweet_eval_homoglyph\")\n",
    "financial_phrasebank_transformed.save_to_disk(\"../data/processed/financial_phrasebank_homoglyph\")"
   ],
   "id": "2ec9b465e8fcf72b",
   "outputs": [
    {
     "data": {
      "text/plain": [
       "Saving the dataset (0/1 shards):   0%|          | 0/1252 [00:00<?, ? examples/s]"
      ],
      "application/vnd.jupyter.widget-view+json": {
       "version_major": 2,
       "version_minor": 0,
       "model_id": "ec620f365d7d44dd8abdcd934d23f7e1"
      }
     },
     "metadata": {},
     "output_type": "display_data"
    },
    {
     "data": {
      "text/plain": [
       "Saving the dataset (0/1 shards):   0%|          | 0/303 [00:00<?, ? examples/s]"
      ],
      "application/vnd.jupyter.widget-view+json": {
       "version_major": 2,
       "version_minor": 0,
       "model_id": "af0cfe72f40248d7b0a5f32fb5384d65"
      }
     },
     "metadata": {},
     "output_type": "display_data"
    }
   ],
   "execution_count": 23
  },
  {
   "metadata": {
    "ExecuteTime": {
     "end_time": "2024-06-25T17:50:59.608832Z",
     "start_time": "2024-06-25T17:50:59.607328Z"
    }
   },
   "cell_type": "code",
   "source": "",
   "id": "b0568ab7a3f03f6e",
   "outputs": [],
   "execution_count": 23
  }
 ],
 "metadata": {
  "kernelspec": {
   "display_name": "Python 3",
   "language": "python",
   "name": "python3"
  },
  "language_info": {
   "codemirror_mode": {
    "name": "ipython",
    "version": 2
   },
   "file_extension": ".py",
   "mimetype": "text/x-python",
   "name": "python",
   "nbconvert_exporter": "python",
   "pygments_lexer": "ipython2",
   "version": "2.7.6"
  }
 },
 "nbformat": 4,
 "nbformat_minor": 5
}
