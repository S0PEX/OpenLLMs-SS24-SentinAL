{
 "cells": [
  {
   "cell_type": "markdown",
   "metadata": {},
   "source": [
    "### Import models"
   ]
  },
  {
   "cell_type": "code",
   "metadata": {
    "ExecuteTime": {
     "end_time": "2024-06-13T15:58:14.754946Z",
     "start_time": "2024-06-13T15:58:14.752436Z"
    }
   },
   "source": [
    "import pandas as pd\n",
    "from models import CardiffnlpTwitterRobertaBaseSentimentLatest, DistilrobertaFinetunedFinancialNewsSentimentAnalysis"
   ],
   "outputs": [],
   "execution_count": 63
  },
  {
   "cell_type": "markdown",
   "metadata": {},
   "source": [
    "### Instantiate & test models"
   ]
  },
  {
   "cell_type": "code",
   "metadata": {
    "ExecuteTime": {
     "end_time": "2024-06-13T15:58:15.954548Z",
     "start_time": "2024-06-13T15:58:14.756452Z"
    }
   },
   "source": [
    "twitter_roberta = CardiffnlpTwitterRobertaBaseSentimentLatest()\n",
    "financial_news_roberta = DistilrobertaFinetunedFinancialNewsSentimentAnalysis()"
   ],
   "outputs": [
    {
     "name": "stderr",
     "output_type": "stream",
     "text": [
      "Some weights of the model checkpoint at cardiffnlp/twitter-roberta-base-sentiment-latest were not used when initializing RobertaForSequenceClassification: ['roberta.pooler.dense.bias', 'roberta.pooler.dense.weight']\n",
      "- This IS expected if you are initializing RobertaForSequenceClassification from the checkpoint of a model trained on another task or with another architecture (e.g. initializing a BertForSequenceClassification model from a BertForPreTraining model).\n",
      "- This IS NOT expected if you are initializing RobertaForSequenceClassification from the checkpoint of a model that you expect to be exactly identical (initializing a BertForSequenceClassification model from a BertForSequenceClassification model).\n"
     ]
    }
   ],
   "execution_count": 64
  },
  {
   "cell_type": "code",
   "metadata": {
    "ExecuteTime": {
     "end_time": "2024-06-13T15:58:15.993664Z",
     "start_time": "2024-06-13T15:58:15.956051Z"
    }
   },
   "source": [
    "input_text = \"I love the product, but the customer service is terrible.\"\n",
    "print(\"Twitter sentiment:\", twitter_roberta.evaluate(input_text))\n",
    "print(\"Financial news sentiment:\", financial_news_roberta.evaluate(input_text))"
   ],
   "outputs": [
    {
     "name": "stdout",
     "output_type": "stream",
     "text": [
      "Twitter sentiment: [{'label': 'negative', 'score': 0.9065747857093811}]\n",
      "Financial news sentiment: [{'label': 'negative', 'score': 0.987086296081543}]\n"
     ]
    }
   ],
   "execution_count": 65
  },
  {
   "metadata": {},
   "cell_type": "markdown",
   "source": "# Load Datasets"
  },
  {
   "metadata": {
    "ExecuteTime": {
     "end_time": "2024-06-13T15:58:22.607701Z",
     "start_time": "2024-06-13T15:58:15.994166Z"
    }
   },
   "cell_type": "code",
   "source": [
    "from datasets import load_dataset\n",
    "\n",
    "tweet_eval = load_dataset(\"cardiffnlp/tweet_eval\", \"hate\", split='test')\n",
    "financial_phrasebank = load_dataset(\"takala/financial_phrasebank\", \"sentences_allagree\", split='train', trust_remote_code=True)\n"
   ],
   "outputs": [],
   "execution_count": 66
  },
  {
   "metadata": {
    "ExecuteTime": {
     "end_time": "2024-06-13T15:58:22.611217Z",
     "start_time": "2024-06-13T15:58:22.608203Z"
    }
   },
   "cell_type": "code",
   "source": [
    "print(f'Tweet eval dataset: {tweet_eval}')\n",
    "print(f'Financial phrasebank dataset: {financial_phrasebank}')"
   ],
   "outputs": [
    {
     "name": "stdout",
     "output_type": "stream",
     "text": [
      "Tweet eval dataset: Dataset({\n",
      "    features: ['text', 'label'],\n",
      "    num_rows: 2970\n",
      "})\n",
      "Financial phrasebank dataset: Dataset({\n",
      "    features: ['sentence', 'label'],\n",
      "    num_rows: 2264\n",
      "})\n"
     ]
    }
   ],
   "execution_count": 67
  },
  {
   "metadata": {},
   "cell_type": "markdown",
   "source": "# Evaluate models on datasets"
  },
  {
   "metadata": {
    "ExecuteTime": {
     "end_time": "2024-06-13T15:58:22.616249Z",
     "start_time": "2024-06-13T15:58:22.612231Z"
    }
   },
   "cell_type": "code",
   "source": [
    "display(tweet_eval.features)\n",
    "display(financial_phrasebank.features)"
   ],
   "outputs": [
    {
     "data": {
      "text/plain": [
       "{'text': Value(dtype='string', id=None),\n",
       " 'label': ClassLabel(names=['non-hate', 'hate'], id=None)}"
      ]
     },
     "metadata": {},
     "output_type": "display_data"
    },
    {
     "data": {
      "text/plain": [
       "{'sentence': Value(dtype='string', id=None),\n",
       " 'label': ClassLabel(names=['negative', 'neutral', 'positive'], id=None)}"
      ]
     },
     "metadata": {},
     "output_type": "display_data"
    }
   ],
   "execution_count": 68
  },
  {
   "metadata": {
    "ExecuteTime": {
     "end_time": "2024-06-13T16:00:51.167299Z",
     "start_time": "2024-06-13T15:58:22.616750Z"
    }
   },
   "cell_type": "code",
   "source": [
    "tweet_eval_results = {\n",
    "    'twitter_roberta': twitter_roberta.evaluate_dataset(tweet_eval, feature='text'),\n",
    "    'financial_news_roberta': financial_news_roberta.evaluate_dataset(tweet_eval, feature='text')\n",
    "}"
   ],
   "outputs": [],
   "execution_count": 69
  },
  {
   "metadata": {
    "ExecuteTime": {
     "end_time": "2024-06-13T16:02:31.615452Z",
     "start_time": "2024-06-13T16:00:51.167800Z"
    }
   },
   "cell_type": "code",
   "source": [
    "financial_phrasebank_results = {\n",
    "    'twitter_roberta': twitter_roberta.evaluate_dataset(financial_phrasebank, feature='sentence'),\n",
    "    'financial_news_roberta': financial_news_roberta.evaluate_dataset(financial_phrasebank, feature='sentence')\n",
    "}"
   ],
   "outputs": [],
   "execution_count": 70
  },
  {
   "metadata": {
    "ExecuteTime": {
     "end_time": "2024-06-13T16:04:19.577733Z",
     "start_time": "2024-06-13T16:04:19.575222Z"
    }
   },
   "cell_type": "code",
   "source": "%pwd",
   "outputs": [
    {
     "data": {
      "text/plain": [
       "'D:\\\\UzK\\\\OpenLLMs-SS24-SentinAL\\\\notebooks'"
      ]
     },
     "execution_count": 74,
     "metadata": {},
     "output_type": "execute_result"
    }
   ],
   "execution_count": 74
  },
  {
   "metadata": {
    "ExecuteTime": {
     "end_time": "2024-06-13T16:07:27.268903Z",
     "start_time": "2024-06-13T16:07:27.073481Z"
    }
   },
   "cell_type": "code",
   "source": [
    "import dill\n",
    "\n",
    "with open('../data/raw/tweet_eval_results.pkl', 'wb') as f:\n",
    "    dill.dump(tweet_eval_results, f)\n",
    "    \n",
    "with open('../data/raw/financial_phrasebank_results.pkl', 'wb') as f:\n",
    "    dill.dump(financial_phrasebank_results, f)"
   ],
   "outputs": [],
   "execution_count": 75
  }
 ],
 "metadata": {
  "kernelspec": {
   "display_name": "venv",
   "language": "python",
   "name": "python3"
  },
  "language_info": {
   "codemirror_mode": {
    "name": "ipython",
    "version": 3
   },
   "file_extension": ".py",
   "mimetype": "text/x-python",
   "name": "python",
   "nbconvert_exporter": "python",
   "pygments_lexer": "ipython3",
   "version": "3.11.4"
  }
 },
 "nbformat": 4,
 "nbformat_minor": 2
}
